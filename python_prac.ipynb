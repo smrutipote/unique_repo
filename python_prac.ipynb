{
 "cells": [
  {
   "cell_type": "code",
   "execution_count": 1,
   "id": "15ea3622-a0bd-4153-a11c-1656e3befba9",
   "metadata": {},
   "outputs": [],
   "source": [
    "import pandas as pd\n",
    "import numpy as np\n",
    "import datetime\n",
    "import time"
   ]
  },
  {
   "cell_type": "code",
   "execution_count": null,
   "id": "0b65c880-566c-48f5-b1c9-900f0985c748",
   "metadata": {},
   "outputs": [],
   "source": [
    "1. User will input (3ages).Find the oldest one"
   ]
  },
  {
   "cell_type": "code",
   "execution_count": 6,
   "id": "83c2f349-ba7f-4c78-809b-94354f2cc942",
   "metadata": {},
   "outputs": [
    {
     "name": "stdin",
     "output_type": "stream",
     "text": [
      "Enter 3 ages [40,12,76]\n"
     ]
    },
    {
     "data": {
      "text/plain": [
       "76"
      ]
     },
     "execution_count": 6,
     "metadata": {},
     "output_type": "execute_result"
    }
   ],
   "source": [
    "list1 = eval(input('Enter 3 ages'))\n",
    "max(list1)"
   ]
  },
  {
   "cell_type": "code",
   "execution_count": null,
   "id": "cfa8fd6f-46a8-4861-820d-0decf4dea608",
   "metadata": {},
   "outputs": [],
   "source": [
    "2. Write a program that will convert celsius value to fahrenheit"
   ]
  },
  {
   "cell_type": "code",
   "execution_count": 7,
   "id": "e45ca9f6-0b06-4a4a-a0b1-56ab1c76b109",
   "metadata": {},
   "outputs": [
    {
     "name": "stdin",
     "output_type": "stream",
     "text": [
      "enter temp in celcius 30\n"
     ]
    },
    {
     "data": {
      "text/plain": [
       "86.0"
      ]
     },
     "execution_count": 7,
     "metadata": {},
     "output_type": "execute_result"
    }
   ],
   "source": [
    "cel = eval(input('enter temp in celcius'))\n",
    "\n",
    "fahrenhit= (cel*9/5)+32\n",
    "fahrenhit"
   ]
  },
  {
   "cell_type": "code",
   "execution_count": null,
   "id": "5c81474b-1723-495e-84d9-addc36a92d32",
   "metadata": {},
   "outputs": [],
   "source": [
    "3. User will input (2numbers).Write a program to swap the numbers"
   ]
  },
  {
   "cell_type": "code",
   "execution_count": 8,
   "id": "f21d0f78-e4b4-44c8-9c8f-8b89b741ead2",
   "metadata": {},
   "outputs": [
    {
     "data": {
      "text/plain": [
       "[1, 2, 6, 5, 4, 8, 3, 7, 9]"
      ]
     },
     "execution_count": 8,
     "metadata": {},
     "output_type": "execute_result"
    }
   ],
   "source": [
    "list1 = [1,2,4,5,6,8,3,7,9]\n",
    "\n",
    "list1[2] ,list1[4] = list1[4],list1[2]\n",
    "\n",
    "list1"
   ]
  },
  {
   "cell_type": "code",
   "execution_count": null,
   "id": "871478a1-1699-48c3-8151-38a83f141cff",
   "metadata": {},
   "outputs": [],
   "source": [
    "4. Write a program that will give you the sum of 3 digits"
   ]
  },
  {
   "cell_type": "code",
   "execution_count": 10,
   "id": "665e4284-b52a-497b-8cb4-0fee19808651",
   "metadata": {},
   "outputs": [
    {
     "data": {
      "text/plain": [
       "27"
      ]
     },
     "execution_count": 10,
     "metadata": {},
     "output_type": "execute_result"
    }
   ],
   "source": [
    "x= 12; y= 11; z = 4           #cannot do sum() for more than 2 nums\n",
    "\n",
    "summ = x+y+z\n",
    "summ"
   ]
  },
  {
   "cell_type": "code",
   "execution_count": null,
   "id": "c5ad2a32-30a6-4c0a-b33a-9ca5f33d0b67",
   "metadata": {},
   "outputs": [],
   "source": [
    "5. Write a program that will reverse a four digit number.Also it checks whether the reverse is true."
   ]
  },
  {
   "cell_type": "code",
   "execution_count": 16,
   "id": "3ed17968-a20e-40a0-8ea4-792f49708f81",
   "metadata": {},
   "outputs": [
    {
     "data": {
      "text/plain": [
       "'4321'"
      ]
     },
     "execution_count": 16,
     "metadata": {},
     "output_type": "execute_result"
    }
   ],
   "source": [
    "x = '1234'\n",
    "x[::-1]"
   ]
  },
  {
   "cell_type": "code",
   "execution_count": 17,
   "id": "f2a3e4a1-fa47-4003-b5b6-4142ea0a995d",
   "metadata": {},
   "outputs": [
    {
     "data": {
      "text/plain": [
       "False"
      ]
     },
     "execution_count": 17,
     "metadata": {},
     "output_type": "execute_result"
    }
   ],
   "source": [
    "x==x[::-1]"
   ]
  },
  {
   "cell_type": "code",
   "execution_count": null,
   "id": "c5d5a18c-a54a-4f80-b64a-cc67d95f485d",
   "metadata": {},
   "outputs": [],
   "source": [
    "6. Write a program that will tell whether the number entered by the user is odd or even."
   ]
  },
  {
   "cell_type": "code",
   "execution_count": 18,
   "id": "4aeaf9d4-49d0-4a3b-9df9-051933e6ab23",
   "metadata": {},
   "outputs": [
    {
     "name": "stdin",
     "output_type": "stream",
     "text": [
      "enter a num 4\n"
     ]
    },
    {
     "name": "stdout",
     "output_type": "stream",
     "text": [
      "num is even\n"
     ]
    }
   ],
   "source": [
    "x = eval(input('enter a num'))\n",
    "\n",
    "if x%2==0:\n",
    "    print('num is even')\n",
    "else:\n",
    "    print('num is odd')"
   ]
  },
  {
   "cell_type": "code",
   "execution_count": null,
   "id": "d4de4d81-ec54-414c-aa75-873533d9d268",
   "metadata": {},
   "outputs": [],
   "source": [
    "7. Write a program that will tell whether the given year is a leap year or not."
   ]
  },
  {
   "cell_type": "code",
   "execution_count": 19,
   "id": "302c4c6a-1be7-41b9-b583-e575940cb555",
   "metadata": {},
   "outputs": [
    {
     "name": "stdin",
     "output_type": "stream",
     "text": [
      "enter a year 1994\n"
     ]
    },
    {
     "name": "stdout",
     "output_type": "stream",
     "text": [
      "not leap year\n"
     ]
    }
   ],
   "source": [
    "year = eval(input('enter a year'))\n",
    "\n",
    "if year%4==0:\n",
    "    print('leap year')\n",
    "else:\n",
    "     print('not leap year')\n",
    "    "
   ]
  },
  {
   "cell_type": "code",
   "execution_count": null,
   "id": "ff0fcb05-9ab4-4638-9d2c-2e92b33a637f",
   "metadata": {},
   "outputs": [],
   "source": [
    "8. Write a program to find the euclidean distance between two coordinates"
   ]
  },
  {
   "cell_type": "code",
   "execution_count": null,
   "id": "5a5b9f75-5834-496e-a8ad-753180912bed",
   "metadata": {},
   "outputs": [],
   "source": [
    "9. Write a program that take a user inputr of three angles and will find out whether it can form a triangle or not"
   ]
  },
  {
   "cell_type": "code",
   "execution_count": 22,
   "id": "32f6b99b-c4dc-4e84-8f0b-6294b1a0f28f",
   "metadata": {},
   "outputs": [
    {
     "name": "stdin",
     "output_type": "stream",
     "text": [
      "enter an angle 12\n",
      "enter an angle 34\n",
      "enter an angle 23\n"
     ]
    },
    {
     "name": "stdout",
     "output_type": "stream",
     "text": [
      "angles not of triangle\n"
     ]
    }
   ],
   "source": [
    "x= eval(input('enter an angle'))\n",
    "y= eval(input('enter an angle'))\n",
    "z= eval(input('enter an angle'))\n",
    "\n",
    "if x+y+z==180:\n",
    "    print('angles of triangle')\n",
    "else:\n",
    "    print('angles not of triangle')"
   ]
  },
  {
   "cell_type": "code",
   "execution_count": null,
   "id": "c5f3f72a-1a0f-43ae-b1e9-6c7945fddfe6",
   "metadata": {},
   "outputs": [],
   "source": [
    "10. Write a program that will take user input of cost price and selling price and determines whether its a loss or a profit"
   ]
  },
  {
   "cell_type": "code",
   "execution_count": 23,
   "id": "dc86c1af-eb08-49da-9a5f-6c72f21045c6",
   "metadata": {},
   "outputs": [
    {
     "name": "stdin",
     "output_type": "stream",
     "text": [
      "enter a price 120\n",
      "enter a price 150\n"
     ]
    },
    {
     "name": "stdout",
     "output_type": "stream",
     "text": [
      "profit\n"
     ]
    }
   ],
   "source": [
    "cost = eval(input('enter a price'))\n",
    "selling = eval(input('enter a price'))\n",
    "\n",
    "if selling-cost>0:\n",
    "    print('profit')\n",
    "\n",
    "else:\n",
    "    print('loss')"
   ]
  },
  {
   "cell_type": "code",
   "execution_count": null,
   "id": "1aa57f7b-69a1-452a-9fcc-ba8c7328c2f8",
   "metadata": {},
   "outputs": [],
   "source": [
    "11. Write a program to find the simple interest when the value of principle,rate of interest and time period is given."
   ]
  },
  {
   "cell_type": "code",
   "execution_count": 26,
   "id": "cd0dfdf9-f6b7-4019-82fa-324d30f13b32",
   "metadata": {},
   "outputs": [
    {
     "name": "stdin",
     "output_type": "stream",
     "text": [
      "enter amount 12000\n",
      "enter amount 7\n",
      "enter amount 10\n"
     ]
    },
    {
     "data": {
      "text/plain": [
       "8400.0"
      ]
     },
     "execution_count": 26,
     "metadata": {},
     "output_type": "execute_result"
    }
   ],
   "source": [
    "p= eval(input('enter amount'))\n",
    "r=eval(input('enter amount'))\n",
    "t=eval(input('enter amount'))\n",
    "\n",
    "simple = (p*r*t)/100\n",
    "simple"
   ]
  },
  {
   "cell_type": "code",
   "execution_count": null,
   "id": "5c23f460-d786-49c8-bded-6602cc8e1eb0",
   "metadata": {},
   "outputs": [],
   "source": [
    "12. Write a program to find the volume of the cylinder. Also find the cost when ,when the cost of 1litre milk is 40Rs."
   ]
  },
  {
   "cell_type": "code",
   "execution_count": 35,
   "id": "586008ab-9302-4fdd-ac2d-e8aabb4ca939",
   "metadata": {},
   "outputs": [
    {
     "name": "stdin",
     "output_type": "stream",
     "text": [
      "r 4\n",
      "h 8\n"
     ]
    },
    {
     "name": "stdout",
     "output_type": "stream",
     "text": [
      "10.028530728448139\n"
     ]
    },
    {
     "data": {
      "text/plain": [
       "401.14122913792556"
      ]
     },
     "execution_count": 35,
     "metadata": {},
     "output_type": "execute_result"
    }
   ],
   "source": [
    "r= float(input('r'))\n",
    "h= float(input('h'))\n",
    "vol1 = (22/7)*r*h\n",
    "vol= np.sqrt(vol1)\n",
    "print(vol)\n",
    "rs= vol*40.0\n",
    "rs"
   ]
  },
  {
   "cell_type": "code",
   "execution_count": null,
   "id": "20ede08c-9039-43c1-a023-9fc7eaa25624",
   "metadata": {},
   "outputs": [],
   "source": [
    "13. Write  a program that will tell whether the given number is divisible by 3 & 6."
   ]
  },
  {
   "cell_type": "code",
   "execution_count": 37,
   "id": "8d6d2bc0-8f12-4ee8-9c13-419a9dd16074",
   "metadata": {},
   "outputs": [
    {
     "name": "stdin",
     "output_type": "stream",
     "text": [
      "num 34\n"
     ]
    },
    {
     "name": "stdout",
     "output_type": "stream",
     "text": [
      "given number not is divisible by 3 & 6\n"
     ]
    }
   ],
   "source": [
    "x = int(input('num'))\n",
    "\n",
    "if x%3==0 and x%6==0:\n",
    "    print('given number is divisible by 3 & 6')\n",
    "\n",
    "else:\n",
    "    print('given number not is divisible by 3 & 6')"
   ]
  },
  {
   "cell_type": "code",
   "execution_count": null,
   "id": "e146955d-5906-47d7-9e52-0c00e42bb374",
   "metadata": {},
   "outputs": [],
   "source": [
    "17. Write a program that will take three digits from the user and add the square of each digit"
   ]
  },
  {
   "cell_type": "code",
   "execution_count": 39,
   "id": "8f211758-89be-4228-9271-0f37bb13ad01",
   "metadata": {},
   "outputs": [
    {
     "data": {
      "text/plain": [
       "49"
      ]
     },
     "execution_count": 39,
     "metadata": {},
     "output_type": "execute_result"
    }
   ],
   "source": [
    "x=3\n",
    "y=2\n",
    "z=6\n",
    "\n",
    "kl =lambda x,y,z: x**2+y**2+z**2\n",
    "kl(x,y,z)"
   ]
  },
  {
   "cell_type": "code",
   "execution_count": null,
   "id": "cf3f91a7-261f-454a-b7d3-e2c62497dac9",
   "metadata": {},
   "outputs": [],
   "source": [
    "18. Write a program that will check whether the number is armstrong number or not."
   ]
  },
  {
   "cell_type": "code",
   "execution_count": 48,
   "id": "8df4ca80-1f5e-46b8-865f-d7705f3b813e",
   "metadata": {},
   "outputs": [
    {
     "name": "stdin",
     "output_type": "stream",
     "text": [
      "num 371\n"
     ]
    },
    {
     "name": "stdout",
     "output_type": "stream",
     "text": [
      "371\n",
      "arm num\n"
     ]
    }
   ],
   "source": [
    "num = str(input('num'))\n",
    "\n",
    "dig = int(num)\n",
    "sum_num=0\n",
    "def arm(num):\n",
    "    global sum_num\n",
    "    for d in num:\n",
    "        sum_num+= int(d)**3\n",
    "    return sum_num\n",
    "\n",
    "arm(num)\n",
    "print(sum_num)\n",
    "if sum_num == dig:\n",
    "    print('arm num')\n",
    "else:\n",
    "    print('not arm')"
   ]
  },
  {
   "cell_type": "code",
   "execution_count": null,
   "id": "13abf19c-89a5-4148-9d97-d401e30ad99f",
   "metadata": {},
   "outputs": [],
   "source": [
    "22. Write a program that will tell the number of dogs and chicken are there when the user will provide the value of total heads and legs."
   ]
  },
  {
   "cell_type": "code",
   "execution_count": null,
   "id": "5eea61ea-81d7-49eb-aed6-6bbb6bcea027",
   "metadata": {},
   "outputs": [],
   "source": [
    "dhead= 20\n",
    "clegs= 80\n",
    "\n"
   ]
  },
  {
   "cell_type": "code",
   "execution_count": null,
   "id": "95d30db4-fd1f-48ad-af6e-70b958b099ae",
   "metadata": {},
   "outputs": [],
   "source": [
    "24. Write a program to find the sum of first n numbers, where n will be provided by the user. Eg if the user provides n=10 the output should be 55."
   ]
  },
  {
   "cell_type": "code",
   "execution_count": 51,
   "id": "91f8530e-5ee0-4c46-be5f-5b43156ee7b6",
   "metadata": {},
   "outputs": [
    {
     "name": "stdout",
     "output_type": "stream",
     "text": [
      "1\n",
      "7\n",
      "11\n",
      "11\n",
      "19\n"
     ]
    }
   ],
   "source": [
    "list1 = [1,6,4,0,8,6,4,9,1,2]\n",
    "\n",
    "summ =0\n",
    "n= 5\n",
    "for i in range(n):\n",
    "    summ+=list1[i]\n",
    "    print(summ)"
   ]
  },
  {
   "cell_type": "code",
   "execution_count": null,
   "id": "e0dee518-b8d6-4236-9d68-1fe06501d0bf",
   "metadata": {},
   "outputs": [],
   "source": [
    "25. Write a program that can multiply 2 numbers provided by the user without using the * operator"
   ]
  },
  {
   "cell_type": "code",
   "execution_count": 53,
   "id": "fc8cb620-d5f6-4d10-9654-32b70efebcb4",
   "metadata": {},
   "outputs": [
    {
     "data": {
      "text/plain": [
       "10"
      ]
     },
     "execution_count": 53,
     "metadata": {},
     "output_type": "execute_result"
    }
   ],
   "source": [
    "x=2; y= 5\n",
    "np.dot(x,y)"
   ]
  },
  {
   "cell_type": "code",
   "execution_count": null,
   "id": "18855243-1539-4d6f-8a99-c57d23461e98",
   "metadata": {},
   "outputs": [],
   "source": [
    "26. Write a program that can find the factorial of a given number provided by the user"
   ]
  },
  {
   "cell_type": "code",
   "execution_count": 57,
   "id": "f7669301-7272-492e-86f4-024a44ea05ce",
   "metadata": {},
   "outputs": [
    {
     "name": "stdout",
     "output_type": "stream",
     "text": [
      "1\n",
      "2\n",
      "6\n",
      "24\n",
      "120\n"
     ]
    }
   ],
   "source": [
    "n =5\n",
    "fact=1\n",
    "for i in range(1, n+1):\n",
    "    fact*=i\n",
    "    print(fact)"
   ]
  },
  {
   "cell_type": "code",
   "execution_count": null,
   "id": "083fc934-490c-4c43-9116-cc4b3ab49ab6",
   "metadata": {},
   "outputs": [],
   "source": [
    "27. Write a program to print the first 25 odd numbers"
   ]
  },
  {
   "cell_type": "code",
   "execution_count": 59,
   "id": "ed23f251-0eca-4724-b39d-7be67c7074c1",
   "metadata": {},
   "outputs": [
    {
     "name": "stdout",
     "output_type": "stream",
     "text": [
      "[1, 3, 5, 7, 9, 11, 13, 15, 17, 19, 21, 23, 25, 27, 29, 31, 33, 35, 37, 39, 41, 43, 45, 47, 49]\n",
      "25\n"
     ]
    }
   ],
   "source": [
    "list1=[]\n",
    "\n",
    "for i in range(1,50):\n",
    "    if i%2==1:\n",
    "        list1.append(i)\n",
    "\n",
    "print(list1[:25])\n",
    "print(len(list1[:25]))"
   ]
  },
  {
   "cell_type": "code",
   "execution_count": null,
   "id": "a9ab222d-995f-4089-8e12-ade5298a09a7",
   "metadata": {},
   "outputs": [],
   "source": [
    "28. Write a program to print whether a given number is prime number or not"
   ]
  },
  {
   "cell_type": "code",
   "execution_count": 60,
   "id": "b598139f-4071-4005-90c3-e46eb07d428f",
   "metadata": {},
   "outputs": [
    {
     "name": "stdout",
     "output_type": "stream",
     "text": [
      "num is prime\n",
      "num is prime\n",
      "num is prime\n",
      "num is prime\n",
      "num is prime\n"
     ]
    }
   ],
   "source": [
    "n= 7\n",
    "\n",
    "for i in range(2,n):\n",
    "    if n%i==0:\n",
    "        print('num is not prime')\n",
    "    else:\n",
    "        print('num is prime')"
   ]
  },
  {
   "cell_type": "code",
   "execution_count": null,
   "id": "f3cc835a-9bbb-4dbb-8ef0-24b453b07eeb",
   "metadata": {},
   "outputs": [],
   "source": [
    "29. Print all the armstrong numbers in the range of 100 to 1000"
   ]
  },
  {
   "cell_type": "code",
   "execution_count": 61,
   "id": "eac1064c-58d8-417a-a8b6-0098296935e0",
   "metadata": {},
   "outputs": [
    {
     "name": "stdout",
     "output_type": "stream",
     "text": [
      "153\n",
      "370\n",
      "371\n",
      "407\n"
     ]
    }
   ],
   "source": [
    "for i in range(100,1000):\n",
    "    num = str(i)\n",
    "    tot_sum = int(num[0])**3+int(num[1])**3+int(num[2])**3\n",
    "    if i==tot_sum:\n",
    "        print(i)\n",
    "    else:\n",
    "        pass"
   ]
  },
  {
   "cell_type": "code",
   "execution_count": null,
   "id": "e74cadee-49c8-4882-9c86-30e0db482e4f",
   "metadata": {},
   "outputs": [],
   "source": [
    "30. The current population of a town is 10000. The population of the town is increasing at the rate of 10% per year. \n",
    "You have to write a program to find out the population at the end of each of the last 10 years. \n",
    "For eg current population is 10000 so the output should be like this:"
   ]
  },
  {
   "cell_type": "code",
   "execution_count": 64,
   "id": "0110c8a3-8f2a-4d97-b210-08bd7b501e36",
   "metadata": {},
   "outputs": [
    {
     "name": "stdout",
     "output_type": "stream",
     "text": [
      "9 9000.0\n",
      "8 8100.0\n",
      "7 7290.0\n",
      "6 6561.0\n",
      "5 5904.9\n",
      "4 5314.41\n",
      "3 4782.969\n",
      "2 4304.6721\n",
      "1 3874.20489\n"
     ]
    }
   ],
   "source": [
    "year = 10; pop= 10000\n",
    "\n",
    "for i in range(1,10):\n",
    "    year=10- i\n",
    "    pop= pop-0.1*pop\n",
    "    print(year,pop)"
   ]
  },
  {
   "cell_type": "code",
   "execution_count": null,
   "id": "608cb23d-71df-403f-b930-69657e47bbc7",
   "metadata": {},
   "outputs": [],
   "source": [
    "31. Write a program to print all the unique combinations of 1,2,3 and 4"
   ]
  },
  {
   "cell_type": "code",
   "execution_count": null,
   "id": "be00ac71-6db3-484c-aee8-2c84cc46fa77",
   "metadata": {},
   "outputs": [],
   "source": [
    "32. User will provide 2 numbers you have to find the HCF of those 2 numbers"
   ]
  },
  {
   "cell_type": "code",
   "execution_count": 70,
   "id": "4d9d1134-fa28-4a0f-b236-e1b4aeb3b57d",
   "metadata": {},
   "outputs": [
    {
     "name": "stdout",
     "output_type": "stream",
     "text": [
      "[1, 2, 4, 5, 10] [1, 5]\n",
      "5\n"
     ]
    }
   ],
   "source": [
    "one = 20\n",
    "sec = 25\n",
    "\n",
    "one_fac=[]\n",
    "sec_fac=[]\n",
    "for i in range(1,one):\n",
    "    if one%i==0:\n",
    "        one_fac.append(i)\n",
    "for j in range(1,one):\n",
    "    if sec%j==0:\n",
    "        sec_fac.append(j)\n",
    "\n",
    "print(one_fac,sec_fac)\n",
    "\n",
    "commom= []\n",
    "\n",
    "for q in one_fac:\n",
    "    if q in sec_fac:\n",
    "        commom.append(q)\n",
    "print(max(commom))"
   ]
  },
  {
   "cell_type": "code",
   "execution_count": null,
   "id": "dc98375f-751e-4df5-8699-5e83b256f114",
   "metadata": {},
   "outputs": [],
   "source": [
    "33. User will provide 2 numbers you have to find the by LCM of those 2 numbers"
   ]
  },
  {
   "cell_type": "code",
   "execution_count": 71,
   "id": "3fb794d4-5c72-47bd-8007-92ab0dd52b27",
   "metadata": {},
   "outputs": [
    {
     "name": "stdout",
     "output_type": "stream",
     "text": [
      "[1, 2, 4, 5, 10] [1, 5]\n",
      "1\n"
     ]
    }
   ],
   "source": [
    "one = 20\n",
    "sec = 25\n",
    "\n",
    "one_fac=[]\n",
    "sec_fac=[]\n",
    "for i in range(1,one):\n",
    "    if one%i==0:\n",
    "        one_fac.append(i)\n",
    "for j in range(1,one):\n",
    "    if sec%j==0:\n",
    "        sec_fac.append(j)\n",
    "\n",
    "print(one_fac,sec_fac)\n",
    "\n",
    "commom= []\n",
    "\n",
    "for q in one_fac:\n",
    "    if q in sec_fac:\n",
    "        commom.append(q)\n",
    "print(min(commom))"
   ]
  },
  {
   "cell_type": "code",
   "execution_count": null,
   "id": "200a8489-1a14-4fcc-851d-138daaf799c1",
   "metadata": {},
   "outputs": [],
   "source": [
    "34. Print first 25 prime numbers"
   ]
  },
  {
   "cell_type": "code",
   "execution_count": null,
   "id": "7fbf98c7-a3f7-4ff6-88bf-453cc5a71040",
   "metadata": {},
   "outputs": [],
   "source": [
    "37. Write a Python program that accepts an integer (n) and computes the value of n+nn+nnn."
   ]
  },
  {
   "cell_type": "code",
   "execution_count": 77,
   "id": "91a52d91-e557-47b5-9e35-6727daf768c1",
   "metadata": {},
   "outputs": [
    {
     "name": "stdin",
     "output_type": "stream",
     "text": [
      "num 2\n"
     ]
    },
    {
     "data": {
      "text/plain": [
       "246"
      ]
     },
     "execution_count": 77,
     "metadata": {},
     "output_type": "execute_result"
    }
   ],
   "source": [
    "new= int(input('num'))\n",
    "n= str(new)\n",
    "nn= n*2\n",
    "nnn= n*3\n",
    "\n",
    "req = int(n)+int(nn)+int(nnn)\n",
    "req"
   ]
  },
  {
   "cell_type": "code",
   "execution_count": null,
   "id": "345a95a6-8912-41a4-8206-ce9e15990b6a",
   "metadata": {},
   "outputs": [],
   "source": [
    "38. Take a number from the user and find the number of digits in it. "
   ]
  },
  {
   "cell_type": "code",
   "execution_count": 79,
   "id": "08e64fb4-a60e-4b62-80a9-4ee96ede7546",
   "metadata": {},
   "outputs": [
    {
     "data": {
      "text/plain": [
       "4"
      ]
     },
     "execution_count": 79,
     "metadata": {},
     "output_type": "execute_result"
    }
   ],
   "source": [
    "nm = 1234\n",
    "new = str(nm)\n",
    "len(new)"
   ]
  },
  {
   "cell_type": "code",
   "execution_count": null,
   "id": "39ec6475-59c1-46b6-bd0a-79ca72eaff59",
   "metadata": {},
   "outputs": [],
   "source": [
    "39.Print all factors of a given number provided by the user."
   ]
  },
  {
   "cell_type": "code",
   "execution_count": 80,
   "id": "2dd34bce-6291-4e5c-b32b-b1599b3d3244",
   "metadata": {},
   "outputs": [
    {
     "name": "stdout",
     "output_type": "stream",
     "text": [
      "1\n",
      "2\n",
      "3\n",
      "4\n",
      "6\n"
     ]
    }
   ],
   "source": [
    "n = 12\n",
    "for i in range(1, n):\n",
    "    if n%i ==0:\n",
    "        print(i)"
   ]
  },
  {
   "cell_type": "code",
   "execution_count": null,
   "id": "8f7124e9-87a8-4f19-b7de-cbd089d17e40",
   "metadata": {},
   "outputs": [],
   "source": [
    "40. Find the reverse of a number provided by the user(any number of digit) "
   ]
  },
  {
   "cell_type": "code",
   "execution_count": 83,
   "id": "87a350f0-ea50-45da-8a96-3764104217cf",
   "metadata": {},
   "outputs": [
    {
     "name": "stdout",
     "output_type": "stream",
     "text": [
      "4321\n"
     ]
    }
   ],
   "source": [
    "dig = 1234\n",
    "st_dig = str(dig)\n",
    "\n",
    "print(int(st_dig[::-1]))"
   ]
  },
  {
   "cell_type": "code",
   "execution_count": null,
   "id": "15050d30-9abe-4de3-bcda-389ada9f7421",
   "metadata": {},
   "outputs": [],
   "source": [
    "41. Write a program to print the following pattern"
   ]
  },
  {
   "cell_type": "code",
   "execution_count": 84,
   "id": "56190d0e-9181-424d-be82-64bc816c684c",
   "metadata": {},
   "outputs": [
    {
     "name": "stdout",
     "output_type": "stream",
     "text": [
      "*\n",
      "**\n",
      "***\n",
      "****\n",
      "*****\n"
     ]
    }
   ],
   "source": [
    "for i in range (1, 6):\n",
    "    print('*'*i)"
   ]
  },
  {
   "cell_type": "code",
   "execution_count": null,
   "id": "5cc7ba3d-5917-4130-9a92-c4a8fccbb5a0",
   "metadata": {},
   "outputs": [],
   "source": [
    "42. Write a program to print the following pattern"
   ]
  },
  {
   "cell_type": "code",
   "execution_count": 87,
   "id": "daa3fcf1-f1e6-40bf-8bfd-03d7a4c17252",
   "metadata": {},
   "outputs": [
    {
     "name": "stdout",
     "output_type": "stream",
     "text": [
      "*\n",
      "**\n",
      "***\n",
      "**\n",
      "*\n"
     ]
    }
   ],
   "source": [
    "for i in range (1, 3):\n",
    "    print('*'*i)\n",
    "for i in range (3, 0,-1):\n",
    "    print('*'*i)"
   ]
  },
  {
   "cell_type": "code",
   "execution_count": null,
   "id": "65e825ba-636d-45a8-a8fb-e3c2642cc1bb",
   "metadata": {},
   "outputs": [],
   "source": [
    "43. Write  a program to print the following pattern"
   ]
  },
  {
   "cell_type": "code",
   "execution_count": 91,
   "id": "7f201883-1e96-4da3-8a15-6b2f10cfa5a2",
   "metadata": {},
   "outputs": [
    {
     "name": "stdout",
     "output_type": "stream",
     "text": [
      " \n",
      " \n",
      "* \n",
      " \n",
      "* \n",
      "** \n",
      " \n",
      "* \n",
      "** \n",
      "*** \n"
     ]
    }
   ],
   "source": [
    "for i in range(1,5):\n",
    "    for j in range(i):\n",
    "        print('*'*j,'\\r')"
   ]
  },
  {
   "cell_type": "code",
   "execution_count": null,
   "id": "5c61abef-96fb-4dac-bfe8-8de423d07b9b",
   "metadata": {},
   "outputs": [],
   "source": [
    "45. Write a program to print the following pattern"
   ]
  },
  {
   "cell_type": "code",
   "execution_count": null,
   "id": "4569d128-c7fd-437e-a65d-4d7d6451d2eb",
   "metadata": {},
   "outputs": [],
   "source": [
    "49.  Write a program that keeps on accepting a number from the user until the user enters Zero. Display the sum and average of all the numbers."
   ]
  },
  {
   "cell_type": "code",
   "execution_count": 98,
   "id": "9e6d9ca4-ff74-4b16-9d88-167d3fe04518",
   "metadata": {},
   "outputs": [
    {
     "name": "stdin",
     "output_type": "stream",
     "text": [
      "enter num [1,4,6,0,2,3]\n"
     ]
    },
    {
     "name": "stdout",
     "output_type": "stream",
     "text": [
      "[1, 4, 6] 11 3.6666666666666665\n"
     ]
    }
   ],
   "source": [
    "n=eval(input('enter num'))\n",
    "\n",
    "num=[]\n",
    "\n",
    "for j in n:\n",
    "    if j ==0:\n",
    "        break\n",
    "        \n",
    "    else:\n",
    "        num.append(j)\n",
    "        summ = sum(num)\n",
    "        av= summ/len(num)\n",
    "print(num, summ, av)"
   ]
  },
  {
   "cell_type": "code",
   "execution_count": null,
   "id": "727e4cc7-517a-4e94-8ea0-48055bb5f35f",
   "metadata": {},
   "outputs": [],
   "source": [
    "51. Find the length of a given string without using the len() function"
   ]
  },
  {
   "cell_type": "code",
   "execution_count": 106,
   "id": "dc53d280-fd62-46e4-82ae-7961d24b9574",
   "metadata": {},
   "outputs": [
    {
     "name": "stdout",
     "output_type": "stream",
     "text": [
      "8\n"
     ]
    }
   ],
   "source": [
    "stt ='havemore'\n",
    "coun=0\n",
    "for i in stt:\n",
    "    coun+=1\n",
    "print(coun)"
   ]
  },
  {
   "cell_type": "code",
   "execution_count": null,
   "id": "e33bef28-15cd-4e43-830b-c6e84455430f",
   "metadata": {},
   "outputs": [],
   "source": [
    "52. Extract username from a given email. \n",
    "Eg if the email is nitish24singh@gmail.com then the username should be nitish24singh"
   ]
  },
  {
   "cell_type": "code",
   "execution_count": 109,
   "id": "0cfd861b-6177-42e7-816e-fba3cd670af7",
   "metadata": {},
   "outputs": [
    {
     "data": {
      "text/plain": [
       "['nitish24singh']"
      ]
     },
     "execution_count": 109,
     "metadata": {},
     "output_type": "execute_result"
    }
   ],
   "source": [
    "import re\n",
    "x= 'nitish24singh@gmail.com'\n",
    "re.findall('[a-z0-9]{7,13}',x)"
   ]
  },
  {
   "cell_type": "code",
   "execution_count": null,
   "id": "70c4e262-c488-4a11-9cd9-5a066aa9bd1d",
   "metadata": {},
   "outputs": [],
   "source": [
    "53. Count the frequency of a particular character in a provided string. Eg 'hello how are you' is the string, the frequency of h in this string is 2."
   ]
  },
  {
   "cell_type": "code",
   "execution_count": 110,
   "id": "77a2da49-412a-4287-bcfa-33a6258f40ec",
   "metadata": {},
   "outputs": [
    {
     "data": {
      "text/plain": [
       "2"
      ]
     },
     "execution_count": 110,
     "metadata": {},
     "output_type": "execute_result"
    }
   ],
   "source": [
    "x= 'hello how are you'\n",
    "\n",
    "x.count('h')"
   ]
  },
  {
   "cell_type": "code",
   "execution_count": null,
   "id": "307a254f-b0eb-438f-a6c1-8403c289ece2",
   "metadata": {},
   "outputs": [],
   "source": [
    "54. Find the index position of a particular character in another string."
   ]
  },
  {
   "cell_type": "code",
   "execution_count": 112,
   "id": "c217760e-c4a8-43e4-aad4-f80f31ed318d",
   "metadata": {},
   "outputs": [
    {
     "data": {
      "text/plain": [
       "4"
      ]
     },
     "execution_count": 112,
     "metadata": {},
     "output_type": "execute_result"
    }
   ],
   "source": [
    "char = 'a'\n",
    "\n",
    "x = 'my name is given'\n",
    "\n",
    "x.index(char)"
   ]
  },
  {
   "cell_type": "code",
   "execution_count": null,
   "id": "8664c182-be2b-4a19-aa99-550ab509c780",
   "metadata": {},
   "outputs": [],
   "source": [
    "55. Count the number of vowels in a string provided by the user"
   ]
  },
  {
   "cell_type": "code",
   "execution_count": 116,
   "id": "a1c8e882-5dae-4cc8-bd73-7ed376b9bea0",
   "metadata": {},
   "outputs": [
    {
     "name": "stdout",
     "output_type": "stream",
     "text": [
      "6\n"
     ]
    }
   ],
   "source": [
    "x = 'given is the strong us'\n",
    "countt=0\n",
    "for z in x:\n",
    "    if z in 'aeiouAEIOU':\n",
    "        countt+=1\n",
    "print(countt)"
   ]
  },
  {
   "cell_type": "code",
   "execution_count": null,
   "id": "a91a7f5b-bcf2-466b-8c40-3e9ef60ed7b6",
   "metadata": {},
   "outputs": [],
   "source": [
    "56. Write a program which can remove a particular character from a string"
   ]
  },
  {
   "cell_type": "code",
   "execution_count": 117,
   "id": "851ab019-6efa-44d7-aff9-2ddb836e5feb",
   "metadata": {},
   "outputs": [
    {
     "data": {
      "text/plain": [
       "'I m strong'"
      ]
     },
     "execution_count": 117,
     "metadata": {},
     "output_type": "execute_result"
    }
   ],
   "source": [
    "stt= 'I am strong'\n",
    "\n",
    "stt.replace('a','')"
   ]
  },
  {
   "cell_type": "code",
   "execution_count": null,
   "id": "5d779c61-aaad-4601-a2b6-fd8951ac7724",
   "metadata": {},
   "outputs": [],
   "source": [
    "57. Write a program that can check whether a given string is palindrome or not."
   ]
  },
  {
   "cell_type": "code",
   "execution_count": 118,
   "id": "4edcbe3d-26e6-4e14-b072-2dbca3e475f3",
   "metadata": {},
   "outputs": [
    {
     "data": {
      "text/plain": [
       "True"
      ]
     },
     "execution_count": 118,
     "metadata": {},
     "output_type": "execute_result"
    }
   ],
   "source": [
    "stt = 'appa'\n",
    "stt==stt[::-1]"
   ]
  },
  {
   "cell_type": "code",
   "execution_count": 119,
   "id": "cc26d239-500d-43ee-9530-c77095aa9714",
   "metadata": {},
   "outputs": [
    {
     "data": {
      "text/plain": [
       "False"
      ]
     },
     "execution_count": 119,
     "metadata": {},
     "output_type": "execute_result"
    }
   ],
   "source": [
    "stt = 'papa'\n",
    "stt==stt[::-1]"
   ]
  },
  {
   "cell_type": "code",
   "execution_count": null,
   "id": "340dd34e-10bc-41b3-84ee-eab19e2f3353",
   "metadata": {},
   "outputs": [],
   "source": [
    "58. Write a python program to remove all the duplicates from a list"
   ]
  },
  {
   "cell_type": "code",
   "execution_count": 120,
   "id": "cef3b76a-32e2-41a0-ae6f-ab20a58d7e98",
   "metadata": {},
   "outputs": [
    {
     "data": {
      "text/plain": [
       "[1, 2, 3, 4, 6, 7, 8]"
      ]
     },
     "execution_count": 120,
     "metadata": {},
     "output_type": "execute_result"
    }
   ],
   "source": [
    "list1= [1,3,2,1,4,1,2,6,7,8]\n",
    "s = set(list1)\n",
    "\n",
    "new_list = list(s)\n",
    "new_list"
   ]
  },
  {
   "cell_type": "code",
   "execution_count": null,
   "id": "45e84c1c-3a49-4e60-9f48-e09fddd4c4d8",
   "metadata": {},
   "outputs": [],
   "source": [
    "59. Write a python program to convert a string to title case without using the title()"
   ]
  },
  {
   "cell_type": "code",
   "execution_count": 124,
   "id": "bfc415ee-b1d2-456a-886c-5c7d95e57616",
   "metadata": {},
   "outputs": [
    {
     "name": "stdout",
     "output_type": "stream",
     "text": [
      "My Name Is Smruti Pote\n"
     ]
    }
   ],
   "source": [
    "stt = 'my name is smruti pote'\n",
    "\n",
    "tit=[]\n",
    "s_list = stt.split()\n",
    "for i in s_list:\n",
    "    new = i[0].upper()+i[1:]\n",
    "    tit.append(new)\n",
    "print(' '.join(tit))"
   ]
  },
  {
   "cell_type": "code",
   "execution_count": null,
   "id": "c13d4d3c-b93d-4817-9d3d-3c3496dd58dc",
   "metadata": {},
   "outputs": [],
   "source": [
    "60. Write a python program to find the max item from a list without using the max function"
   ]
  },
  {
   "cell_type": "code",
   "execution_count": 130,
   "id": "e906823c-395d-47fe-ad41-aaaebe2c2557",
   "metadata": {},
   "outputs": [],
   "source": [
    "listt = [4,1,5,9,2,7,3]"
   ]
  },
  {
   "cell_type": "code",
   "execution_count": 132,
   "id": "500904cb-e352-4deb-8f7e-4a39b9284425",
   "metadata": {},
   "outputs": [],
   "source": [
    "listt.sort()"
   ]
  },
  {
   "cell_type": "code",
   "execution_count": 134,
   "id": "faef4f58-4d06-4257-b739-3b3a7734da08",
   "metadata": {},
   "outputs": [
    {
     "data": {
      "text/plain": [
       "9"
      ]
     },
     "execution_count": 134,
     "metadata": {},
     "output_type": "execute_result"
    }
   ],
   "source": [
    "listt[-1]"
   ]
  },
  {
   "cell_type": "code",
   "execution_count": null,
   "id": "f4dd08f7-9a0a-4c6e-a7ee-884e01e32b66",
   "metadata": {},
   "outputs": [],
   "source": [
    "61. Write a python program to reverse a list"
   ]
  },
  {
   "cell_type": "code",
   "execution_count": 135,
   "id": "30505c79-183f-4130-823e-838203f54cc3",
   "metadata": {},
   "outputs": [
    {
     "data": {
      "text/plain": [
       "[3, 7, 2, 9, 5, 1, 4]"
      ]
     },
     "execution_count": 135,
     "metadata": {},
     "output_type": "execute_result"
    }
   ],
   "source": [
    "listt = [4,1,5,9,2,7,3]\n",
    "listt[::-1]"
   ]
  },
  {
   "cell_type": "code",
   "execution_count": 141,
   "id": "f61f3023-45fa-4a38-86be-c6cdb083fe89",
   "metadata": {},
   "outputs": [
    {
     "data": {
      "text/plain": [
       "2"
      ]
     },
     "execution_count": 141,
     "metadata": {},
     "output_type": "execute_result"
    }
   ],
   "source": [
    "listt =[2,5,3,8,1]\n",
    "\n",
    "listt.index(3)"
   ]
  },
  {
   "cell_type": "code",
   "execution_count": null,
   "id": "e596781b-462d-4e15-8cc0-056746603bda",
   "metadata": {},
   "outputs": [],
   "source": [
    "63. Write a program that can create a new list from a given list where each item in the new list is square of the item of the old list"
   ]
  },
  {
   "cell_type": "code",
   "execution_count": 145,
   "id": "a1173fb3-55b0-47c3-bf2d-81058e7f26ad",
   "metadata": {},
   "outputs": [
    {
     "data": {
      "text/plain": [
       "[4, 25, 9, 64, 1]"
      ]
     },
     "execution_count": 145,
     "metadata": {},
     "output_type": "execute_result"
    }
   ],
   "source": [
    "listt =[2,5,3,8,1]\n",
    "new=[x**2 for x in listt]\n",
    "new"
   ]
  },
  {
   "cell_type": "code",
   "execution_count": null,
   "id": "8f8bc75f-47bb-42ed-a36c-45f8c7e0d836",
   "metadata": {},
   "outputs": [],
   "source": [
    "64. Write a program that can reverse words of a given string.\n",
    "Eg if the input is Hello how are you\n",
    "Output should be you are how Hello"
   ]
  },
  {
   "cell_type": "code",
   "execution_count": 149,
   "id": "92130823-e28f-4871-86ee-5255c63ac1ab",
   "metadata": {},
   "outputs": [
    {
     "name": "stdout",
     "output_type": "stream",
     "text": [
      "you are how Hello\n"
     ]
    }
   ],
   "source": [
    "stt = 'Hello how are you'\n",
    "\n",
    "s = stt.split()\n",
    "s[::-1]\n",
    "print(' '.join(s[::-1]))"
   ]
  },
  {
   "cell_type": "code",
   "execution_count": null,
   "id": "bb929852-021a-450c-b697-bdd756bbc862",
   "metadata": {},
   "outputs": [],
   "source": [
    "65. Write a program that can count the number of words in a given string"
   ]
  },
  {
   "cell_type": "code",
   "execution_count": 153,
   "id": "365216f1-bf01-44a8-b085-c96b40f7448f",
   "metadata": {},
   "outputs": [
    {
     "name": "stdout",
     "output_type": "stream",
     "text": [
      "7\n"
     ]
    }
   ],
   "source": [
    "stt = 'my name anthony gonsalvis excuse me please'\n",
    "s= stt.split()\n",
    "\n",
    "co=0\n",
    "for i in s :\n",
    "    co+=1\n",
    "print(co)\n",
    "    "
   ]
  },
  {
   "cell_type": "code",
   "execution_count": null,
   "id": "bfee148c-6082-4e4e-a368-d686c0f2c615",
   "metadata": {},
   "outputs": [],
   "source": [
    "66. Write a program to check if a list is in ascending order or not"
   ]
  },
  {
   "cell_type": "code",
   "execution_count": 160,
   "id": "7a60935f-c57b-49dd-85a1-89a64edb95be",
   "metadata": {},
   "outputs": [],
   "source": [
    "import copy"
   ]
  },
  {
   "cell_type": "code",
   "execution_count": 158,
   "id": "e5abdf8c-4a92-4aee-aa89-04396f642af6",
   "metadata": {},
   "outputs": [],
   "source": [
    "lis1 = [2,4,5,6,7,7]"
   ]
  },
  {
   "cell_type": "code",
   "execution_count": 156,
   "id": "75979a99-376c-4157-b2f7-dd7aa45b8589",
   "metadata": {},
   "outputs": [
    {
     "data": {
      "text/plain": [
       "False"
      ]
     },
     "execution_count": 156,
     "metadata": {},
     "output_type": "execute_result"
    }
   ],
   "source": [
    "lis1 == lis1.sort()"
   ]
  },
  {
   "cell_type": "code",
   "execution_count": 165,
   "id": "7daa9ee1-ef43-4d60-973d-89d439d9c8b2",
   "metadata": {},
   "outputs": [],
   "source": [
    "lis1 = [1,2,3,4,5,6]"
   ]
  },
  {
   "cell_type": "code",
   "execution_count": 166,
   "id": "ef1af0c9-1669-4b1a-b70f-0d3879ed02b3",
   "metadata": {},
   "outputs": [],
   "source": [
    "lis2= copy.deepcopy(lis1)"
   ]
  },
  {
   "cell_type": "code",
   "execution_count": 167,
   "id": "9c56e102-df4c-4b7b-a95c-7c8df17f44ee",
   "metadata": {},
   "outputs": [
    {
     "data": {
      "text/plain": [
       "[1, 2, 3, 4, 5, 6]"
      ]
     },
     "execution_count": 167,
     "metadata": {},
     "output_type": "execute_result"
    }
   ],
   "source": [
    "lis2"
   ]
  },
  {
   "cell_type": "code",
   "execution_count": 168,
   "id": "b5b3004f-2a5c-4fe0-905b-9c208253ab4f",
   "metadata": {},
   "outputs": [],
   "source": [
    "lis2.sort()"
   ]
  },
  {
   "cell_type": "code",
   "execution_count": 170,
   "id": "1e0ced2d-de58-46c3-8356-2668b490287c",
   "metadata": {},
   "outputs": [
    {
     "data": {
      "text/plain": [
       "True"
      ]
     },
     "execution_count": 170,
     "metadata": {},
     "output_type": "execute_result"
    }
   ],
   "source": [
    "lis2==lis1"
   ]
  },
  {
   "cell_type": "code",
   "execution_count": null,
   "id": "d81c9567-2c3e-4ff3-92a4-d21f3215a98e",
   "metadata": {},
   "outputs": [],
   "source": [
    "67. Create 2 lists from a given list where 1st list will contain all the odd numbers from the original list and \n",
    "the 2nd one will contain all the even numbers "
   ]
  },
  {
   "cell_type": "code",
   "execution_count": 173,
   "id": "382aad3b-4dbe-4de1-b724-342821f320ed",
   "metadata": {},
   "outputs": [
    {
     "name": "stdout",
     "output_type": "stream",
     "text": [
      "[2, 4, 6, 8] [1, 3, 5, 7, 9]\n"
     ]
    }
   ],
   "source": [
    "lis1 = [1,2,3,4,5,6,7,8,9]\n",
    "eve =[x for x in lis1 if x%2==0]\n",
    "od = [x for x in lis1 if x%2==1]\n",
    "print(eve,od)"
   ]
  },
  {
   "cell_type": "code",
   "execution_count": null,
   "id": "31c5f9e0-37e9-41f1-8c0b-54fee78ae95b",
   "metadata": {},
   "outputs": [],
   "source": [
    "68. Write a program to merge 2 list without using the + operator"
   ]
  },
  {
   "cell_type": "code",
   "execution_count": 179,
   "id": "b37f6ed0-6914-4d8c-a5c2-66d2ca2c5f13",
   "metadata": {},
   "outputs": [],
   "source": [
    "lis1 =[1,2,3]\n",
    "lis2 =[5,6,7]\n",
    "lis1.extend(lis2)"
   ]
  },
  {
   "cell_type": "code",
   "execution_count": 180,
   "id": "8cf7d936-1432-4bd0-b766-8c5f29cda708",
   "metadata": {},
   "outputs": [
    {
     "data": {
      "text/plain": [
       "[1, 2, 3, 5, 6, 7]"
      ]
     },
     "execution_count": 180,
     "metadata": {},
     "output_type": "execute_result"
    }
   ],
   "source": [
    "lis1"
   ]
  },
  {
   "cell_type": "code",
   "execution_count": null,
   "id": "952e1155-1af7-4676-9990-a39fdfd31829",
   "metadata": {},
   "outputs": [],
   "source": [
    "69. Write a program to replace an item with a different item if found in the list"
   ]
  },
  {
   "cell_type": "code",
   "execution_count": 188,
   "id": "bb3a10b6-d49b-4e63-81ab-e0fa9d01e825",
   "metadata": {},
   "outputs": [],
   "source": [
    "lis1 = [1,2,34,5,6]"
   ]
  },
  {
   "cell_type": "code",
   "execution_count": null,
   "id": "5bab11a1-80fe-4817-8d7b-f02571153570",
   "metadata": {},
   "outputs": [],
   "source": [
    "70. Write a program that can convert a 2D list to 1D listWrite a program that can print "
   ]
  },
  {
   "cell_type": "code",
   "execution_count": 191,
   "id": "37fafbf3-25f5-4f67-9610-43f4690ab94a",
   "metadata": {},
   "outputs": [
    {
     "data": {
      "text/plain": [
       "array([1, 2, 2, 3])"
      ]
     },
     "execution_count": 191,
     "metadata": {},
     "output_type": "execute_result"
    }
   ],
   "source": [
    "lis = [[1,2],[2,3]]\n",
    "np.ravel(lis)"
   ]
  },
  {
   "cell_type": "code",
   "execution_count": null,
   "id": "c701f580-3f30-4ba9-ac90-75510f8241d4",
   "metadata": {},
   "outputs": [],
   "source": [
    "71. Write a program that can perform union and intersection on 2 given list."
   ]
  },
  {
   "cell_type": "code",
   "execution_count": 196,
   "id": "c1220a92-924c-4918-b1f3-ea96268c9b11",
   "metadata": {},
   "outputs": [
    {
     "name": "stdout",
     "output_type": "stream",
     "text": [
      "[1, 2, 3, 5, 6, 7] [3]\n"
     ]
    }
   ],
   "source": [
    "lis1 =[1,2,3]\n",
    "lis2 =[5,6,7,3]\n",
    "\n",
    "s1=set(lis1)\n",
    "s2=set(lis2)\n",
    "\n",
    "uni = s1.union(s2)\n",
    "inter = s1.intersection(s2)\n",
    "\n",
    "print(list(uni), list(inter))"
   ]
  },
  {
   "cell_type": "code",
   "execution_count": null,
   "id": "f71cae1f-0a48-4181-9754-6b70c4555b13",
   "metadata": {},
   "outputs": [],
   "source": [
    "72. the max item of each row of a matrix. "
   ]
  },
  {
   "cell_type": "code",
   "execution_count": 197,
   "id": "52ee953d-00e0-4537-a793-261034a9f37d",
   "metadata": {},
   "outputs": [
    {
     "data": {
      "text/plain": [
       "array([[18,  2,  2, 14],\n",
       "       [15, 19,  3, 13],\n",
       "       [17,  6, 23, 22],\n",
       "       [18, 23,  7, 16]])"
      ]
     },
     "execution_count": 197,
     "metadata": {},
     "output_type": "execute_result"
    }
   ],
   "source": [
    "arr = np.random.randint(1,25,size = (4,4))\n",
    "arr"
   ]
  },
  {
   "cell_type": "code",
   "execution_count": 201,
   "id": "2414716d-0cb9-472f-97e0-b51d4d7d3de6",
   "metadata": {},
   "outputs": [
    {
     "name": "stdout",
     "output_type": "stream",
     "text": [
      "18\n",
      "19\n",
      "23\n",
      "23\n"
     ]
    }
   ],
   "source": [
    "for i in range(arr.shape[0]):\n",
    "    print(arr[i].max())"
   ]
  },
  {
   "cell_type": "code",
   "execution_count": null,
   "id": "68d5d2c9-2fc4-41de-99ef-d89c75e42df3",
   "metadata": {},
   "outputs": [],
   "source": [
    "73. Write a program that can convert an integer to string"
   ]
  },
  {
   "cell_type": "code",
   "execution_count": 202,
   "id": "365aad05-54d3-400c-977a-9d42764860a0",
   "metadata": {},
   "outputs": [
    {
     "data": {
      "text/plain": [
       "'1223'"
      ]
     },
     "execution_count": 202,
     "metadata": {},
     "output_type": "execute_result"
    }
   ],
   "source": [
    "val = 1223\n",
    "s= str(val)\n",
    "s"
   ]
  },
  {
   "cell_type": "code",
   "execution_count": null,
   "id": "ebf099aa-adc8-41b2-b9cd-1370e4f53d9b",
   "metadata": {},
   "outputs": [],
   "source": [
    "74. Write a program to print the shape of a matrix. "
   ]
  },
  {
   "cell_type": "code",
   "execution_count": 203,
   "id": "89df1a0f-7552-4b58-ba3b-e934a9080e5a",
   "metadata": {},
   "outputs": [
    {
     "data": {
      "text/plain": [
       "(4, 4)"
      ]
     },
     "execution_count": 203,
     "metadata": {},
     "output_type": "execute_result"
    }
   ],
   "source": [
    "arr.shape"
   ]
  },
  {
   "cell_type": "code",
   "execution_count": null,
   "id": "258cac01-2b42-4453-8374-2333b9428bb3",
   "metadata": {},
   "outputs": [],
   "source": [
    "75. Write a program that can check if you can perform matrix multiplication on 2 matrices"
   ]
  },
  {
   "cell_type": "code",
   "execution_count": 204,
   "id": "94a03f64-a43b-4b55-a6b8-3b1f50d5cbd0",
   "metadata": {},
   "outputs": [
    {
     "name": "stdout",
     "output_type": "stream",
     "text": [
      "[[11 23 24 23]\n",
      " [20  4  7 23]\n",
      " [18  6 24  4]\n",
      " [ 6  1 10 13]]\n",
      "[[23  8 12 18]\n",
      " [ 8 14  3 22]\n",
      " [ 1  2 12 10]\n",
      " [24 12 19 11]]\n"
     ]
    }
   ],
   "source": [
    "arr1 = np.random.randint(1,25,size = (4,4))\n",
    "arr2= np.random.randint(1,25,size = (4,4))\n",
    "print(arr1)\n",
    "print(arr2)"
   ]
  },
  {
   "cell_type": "code",
   "execution_count": 205,
   "id": "57dcffd5-6594-472a-b2f0-d39b1bbdadf3",
   "metadata": {},
   "outputs": [
    {
     "data": {
      "text/plain": [
       "array([[253, 184, 288, 414],\n",
       "       [160,  56,  21, 506],\n",
       "       [ 18,  12, 288,  40],\n",
       "       [144,  12, 190, 143]])"
      ]
     },
     "execution_count": 205,
     "metadata": {},
     "output_type": "execute_result"
    }
   ],
   "source": [
    "arr1*arr2"
   ]
  },
  {
   "cell_type": "code",
   "execution_count": 206,
   "id": "ca518881-35df-49a3-8745-d8743d9d2c6f",
   "metadata": {},
   "outputs": [],
   "source": [
    "lis1 = [1,2,3,4,5,6,6,7]"
   ]
  },
  {
   "cell_type": "code",
   "execution_count": 207,
   "id": "3837fc5d-9a6a-4afa-bfc6-1e85196ef31c",
   "metadata": {},
   "outputs": [
    {
     "data": {
      "text/plain": [
       "2"
      ]
     },
     "execution_count": 207,
     "metadata": {},
     "output_type": "execute_result"
    }
   ],
   "source": [
    "lis1.count(6)"
   ]
  },
  {
   "cell_type": "code",
   "execution_count": null,
   "id": "8cc2d0dc-08a9-44c8-83af-bda55a68e000",
   "metadata": {},
   "outputs": [],
   "source": [
    "79. Assume a list with numbers from 1 to 10 and then convert it into a dictionary where the key would be the \n",
    "numbers of the list and the values would be the square of those numbers.\n"
   ]
  },
  {
   "cell_type": "code",
   "execution_count": 208,
   "id": "65078b80-2ea7-46b9-a24f-dc07e7e872b7",
   "metadata": {},
   "outputs": [],
   "source": [
    "list1 = [1,2,3,4,5,6,7,8]\n",
    "list2 = [x**2 for x in list1]"
   ]
  },
  {
   "cell_type": "code",
   "execution_count": 209,
   "id": "6895025e-4476-4ac1-8b5a-fc1b6e711521",
   "metadata": {},
   "outputs": [
    {
     "data": {
      "text/plain": [
       "{1: 1, 2: 4, 3: 9, 4: 16, 5: 25, 6: 36, 7: 49, 8: 64}"
      ]
     },
     "execution_count": 209,
     "metadata": {},
     "output_type": "execute_result"
    }
   ],
   "source": [
    "dict(zip(list1,list2))"
   ]
  },
  {
   "cell_type": "code",
   "execution_count": null,
   "id": "af584d9f-9f84-4732-a932-441edb71ee9a",
   "metadata": {},
   "outputs": [],
   "source": [
    "80. Write a program to merge two given dictionary\n"
   ]
  },
  {
   "cell_type": "code",
   "execution_count": 210,
   "id": "efb8ef5d-7888-4dbd-93ea-9ef7349e6c94",
   "metadata": {},
   "outputs": [],
   "source": [
    "d1= {1: 1, 2: 4, 3: 9, 4: 16}\n",
    "d2 ={5: 25, 6: 36, 7: 49, 8: 64}"
   ]
  },
  {
   "cell_type": "code",
   "execution_count": 218,
   "id": "04c16397-eecd-40b7-bdeb-96bfd4b63031",
   "metadata": {},
   "outputs": [],
   "source": [
    "d1.update(d2)"
   ]
  },
  {
   "cell_type": "code",
   "execution_count": 219,
   "id": "ce584612-aa61-4182-b63c-d012d67958ae",
   "metadata": {},
   "outputs": [
    {
     "data": {
      "text/plain": [
       "{1: 1, 2: 4, 3: 9, 4: 16, 5: 25, 6: 36, 7: 49, 8: 64}"
      ]
     },
     "execution_count": 219,
     "metadata": {},
     "output_type": "execute_result"
    }
   ],
   "source": [
    "d1"
   ]
  },
  {
   "cell_type": "code",
   "execution_count": null,
   "id": "3b8a71bd-b411-4cc8-8f67-f6cf31afe530",
   "metadata": {},
   "outputs": [],
   "source": []
  },
  {
   "cell_type": "code",
   "execution_count": 220,
   "id": "a7e87735-b9cf-4ef2-b67c-de596441ffb1",
   "metadata": {},
   "outputs": [],
   "source": [
    "list1=[(9,2),(4,6),(1,2),(7,4),(5,7)]\n",
    "list1.sort()"
   ]
  },
  {
   "cell_type": "code",
   "execution_count": 221,
   "id": "0a8249c1-e861-4446-aa21-038c662a5e7b",
   "metadata": {},
   "outputs": [
    {
     "data": {
      "text/plain": [
       "[(1, 2), (4, 6), (5, 7), (7, 4), (9, 2)]"
      ]
     },
     "execution_count": 221,
     "metadata": {},
     "output_type": "execute_result"
    }
   ],
   "source": [
    "list1"
   ]
  },
  {
   "cell_type": "code",
   "execution_count": null,
   "id": "f64698da-bf62-437c-9133-de97f53c7276",
   "metadata": {},
   "outputs": [],
   "source": []
  },
  {
   "cell_type": "code",
   "execution_count": 224,
   "id": "a490b4a2-eaa0-47aa-9a86-9bf4a285441f",
   "metadata": {},
   "outputs": [
    {
     "data": {
      "text/plain": [
       "[1, 8, 27, 64, 125]"
      ]
     },
     "execution_count": 224,
     "metadata": {},
     "output_type": "execute_result"
    }
   ],
   "source": [
    "list3=[1,2,3,4,5]\n",
    "\n",
    "sqr = lambda listt : [x**2 for x in listt]\n",
    "cub = lambda listt : [x**3 for x in listt]\n",
    "\n",
    "sqr(list3)\n",
    "cub(list3)"
   ]
  },
  {
   "cell_type": "code",
   "execution_count": 225,
   "id": "bba02ab9-b7b6-4e01-b4fb-7ee59bedd113",
   "metadata": {},
   "outputs": [
    {
     "data": {
      "text/plain": [
       "True"
      ]
     },
     "execution_count": 225,
     "metadata": {},
     "output_type": "execute_result"
    }
   ],
   "source": [
    "string='elephants are huge'\n",
    "check  = lambda stt : stt[0]=='e'\n",
    "check(string)"
   ]
  },
  {
   "cell_type": "code",
   "execution_count": 226,
   "id": "1c7cdc69-1f65-4748-90bf-e87ddfbc54e2",
   "metadata": {},
   "outputs": [
    {
     "data": {
      "text/plain": [
       "False"
      ]
     },
     "execution_count": 226,
     "metadata": {},
     "output_type": "execute_result"
    }
   ],
   "source": [
    "string='string'\n",
    "dig = lambda stt : stt.isdigit()\n",
    "dig(string)"
   ]
  },
  {
   "cell_type": "code",
   "execution_count": 229,
   "id": "8d05a99f-161f-487c-927b-1b2eb3d06b7b",
   "metadata": {},
   "outputs": [
    {
     "data": {
      "text/plain": [
       "[4, 5]"
      ]
     },
     "execution_count": 229,
     "metadata": {},
     "output_type": "execute_result"
    }
   ],
   "source": [
    "list1=[1,2,3,4,5]\n",
    "list2=[4,5,6,7,8]\n",
    "\n",
    "list(filter(lambda x: x in list1,list2))"
   ]
  },
  {
   "cell_type": "code",
   "execution_count": 230,
   "id": "1022254f-b64d-45a7-9f2e-2eac0178f3b7",
   "metadata": {},
   "outputs": [
    {
     "data": {
      "text/plain": [
       "[True, False, True, False, False, True, True, True]"
      ]
     },
     "execution_count": 230,
     "metadata": {},
     "output_type": "execute_result"
    }
   ],
   "source": [
    "lst1=[5,2,3,6,8,7,1,9]\n",
    "eve = lambda lst :  [x%2==0 for x in lst]\n",
    "odd = lambda lst :  [x%2!=0 for x in lst]\n",
    "eve(lst1)\n",
    "odd(lst1)"
   ]
  },
  {
   "cell_type": "code",
   "execution_count": 231,
   "id": "5ee75fff-6c87-4d7b-9ae2-3bbeb6fd77b7",
   "metadata": {},
   "outputs": [
    {
     "data": {
      "text/plain": [
       "[2, 6, 8]"
      ]
     },
     "execution_count": 231,
     "metadata": {},
     "output_type": "execute_result"
    }
   ],
   "source": [
    "lst1=[5,2,3,6,8,7,1,9]\n",
    "list(filter(lambda x : x%2==0,lst1))"
   ]
  },
  {
   "cell_type": "code",
   "execution_count": 234,
   "id": "4df8ec75-cdee-43d5-95fc-e9f2b6062ac0",
   "metadata": {},
   "outputs": [
    {
     "data": {
      "text/plain": [
       "[3, 5, 7, 5]"
      ]
     },
     "execution_count": 234,
     "metadata": {},
     "output_type": "execute_result"
    }
   ],
   "source": [
    "list1=[1,2,3,4]\n",
    "list2=[2,3,4,1]\n",
    "\n",
    "list(map(lambda x,y: x+y,list1,list2))"
   ]
  },
  {
   "cell_type": "code",
   "execution_count": 236,
   "id": "9585629e-de35-45cb-879e-6b8e9d5821e0",
   "metadata": {},
   "outputs": [
    {
     "data": {
      "text/plain": [
       "[26, 39, 90]"
      ]
     },
     "execution_count": 236,
     "metadata": {},
     "output_type": "execute_result"
    }
   ],
   "source": [
    "list2=[26,39,22,76,90,38]\n",
    "list(filter(lambda x : x%9==0 or x%13==0,list2))"
   ]
  },
  {
   "cell_type": "code",
   "execution_count": 240,
   "id": "85debe07-71d2-439b-a361-87a6bb0f7a08",
   "metadata": {},
   "outputs": [
    {
     "name": "stdout",
     "output_type": "stream",
     "text": [
      "['act']\n"
     ]
    }
   ],
   "source": [
    "string1 = ['cat', 'play', 'act', 'god', 'dog', 'help']\n",
    "\n",
    "result = list(filter(lambda x: ''.join(sorted(x)) == x, string1))\n",
    "print(result)\n"
   ]
  },
  {
   "cell_type": "code",
   "execution_count": 243,
   "id": "dc0f9567-2542-44ce-a18a-57232ca730db",
   "metadata": {},
   "outputs": [
    {
     "data": {
      "text/plain": [
       "'1234'"
      ]
     },
     "execution_count": 243,
     "metadata": {},
     "output_type": "execute_result"
    }
   ],
   "source": [
    "tup=('1234')\n",
    "l = list(tup)\n",
    "\n",
    "ss = ''.join(l)\n",
    "ss"
   ]
  },
  {
   "cell_type": "code",
   "execution_count": 249,
   "id": "226dc7a5-be25-4571-99c0-561afd947e5e",
   "metadata": {},
   "outputs": [
    {
     "data": {
      "text/plain": [
       "[1, 3]"
      ]
     },
     "execution_count": 249,
     "metadata": {},
     "output_type": "execute_result"
    }
   ],
   "source": [
    "list1=[1,2,3,4]\n",
    "\n",
    "list2=[2,4,7,8]\n",
    "\n",
    "list(filter(lambda x: x not in list2,list1))"
   ]
  },
  {
   "cell_type": "code",
   "execution_count": null,
   "id": "ddcf2d1f-18a0-461e-b0b3-b66f8986946f",
   "metadata": {},
   "outputs": [],
   "source": []
  },
  {
   "cell_type": "code",
   "execution_count": 301,
   "id": "9f0863da-71ff-440c-9eea-bdf59a74d9c1",
   "metadata": {},
   "outputs": [
    {
     "name": "stdout",
     "output_type": "stream",
     "text": [
      "     *\n",
      "    * *\n",
      "   * * *\n",
      "  * * * *\n",
      " * * * * *\n"
     ]
    }
   ],
   "source": [
    "n=5\n",
    "for i in range(1,n+1):\n",
    "    print(' '*(n-i),end ='')\n",
    "    print(' *'*i)"
   ]
  },
  {
   "cell_type": "code",
   "execution_count": 294,
   "id": "f1523c07-c594-4540-a24d-1622ce29a07c",
   "metadata": {},
   "outputs": [
    {
     "name": "stdout",
     "output_type": "stream",
     "text": [
      "A  \n",
      "B B  \n",
      "C C C  \n",
      "D D D D  \n",
      "E E E E E  \n"
     ]
    }
   ],
   "source": [
    "n=5\n",
    "x =64\n",
    "for i in range(1, n+1):\n",
    "    for j in range(i):\n",
    "        print(chr(x+i),end =' ')\n",
    "    print(' ')"
   ]
  },
  {
   "cell_type": "code",
   "execution_count": 298,
   "id": "dd72ab5d-7ef1-432d-85c0-cd9b46598f75",
   "metadata": {},
   "outputs": [
    {
     "name": "stdout",
     "output_type": "stream",
     "text": [
      "1\n",
      "22\n",
      "333\n",
      "4444\n",
      "55555\n"
     ]
    }
   ],
   "source": [
    "n=  5\n",
    "for i in range(1,n+1):\n",
    "    for j in range(i):\n",
    "        print(i,end ='')\n",
    "    print()"
   ]
  },
  {
   "cell_type": "code",
   "execution_count": 312,
   "id": "d6e170e6-d6ea-4aff-b833-b10ac0223ecc",
   "metadata": {},
   "outputs": [
    {
     "name": "stdout",
     "output_type": "stream",
     "text": [
      "\n",
      "*\n",
      "***\n",
      "******\n",
      "**********\n"
     ]
    }
   ],
   "source": [
    "n=5\n",
    "for i in range(1,n+1):\n",
    "    for j in range(i):\n",
    "        print('*'*j,end ='')\n",
    "    print( )"
   ]
  },
  {
   "cell_type": "code",
   "execution_count": 314,
   "id": "f1461b01-5d0c-4e1f-a508-900d4ef08959",
   "metadata": {},
   "outputs": [
    {
     "data": {
      "text/plain": [
       "[1, 8, 27, 64, 125]"
      ]
     },
     "execution_count": 314,
     "metadata": {},
     "output_type": "execute_result"
    }
   ],
   "source": [
    "list3=[1,2,3,4,5]\n",
    "list(map(lambda x : x**3,list3))"
   ]
  },
  {
   "cell_type": "code",
   "execution_count": 316,
   "id": "150321eb-b6d5-45a1-bb14-373f3defc2d7",
   "metadata": {},
   "outputs": [
    {
     "data": {
      "text/plain": [
       "5"
      ]
     },
     "execution_count": 316,
     "metadata": {},
     "output_type": "execute_result"
    }
   ],
   "source": [
    "lst1=[5,2,3,6,8,7,1,9]\n",
    "\n",
    "len(list(filter(lambda x : x%2!=0,lst1)))"
   ]
  },
  {
   "cell_type": "code",
   "execution_count": 317,
   "id": "bfa5b1f1-ee51-4d8c-a3a2-d349755b47e9",
   "metadata": {},
   "outputs": [
    {
     "data": {
      "text/plain": [
       "['madam', 'abba']"
      ]
     },
     "execution_count": 317,
     "metadata": {},
     "output_type": "execute_result"
    }
   ],
   "source": [
    "list3=['madam','apple','lady','abba']\n",
    "list(filter(lambda x: x==x[::-1],list3))"
   ]
  },
  {
   "cell_type": "code",
   "execution_count": 319,
   "id": "47b9dbf7-f15d-4cfc-8471-b58b7a3c4e80",
   "metadata": {},
   "outputs": [
    {
     "data": {
      "text/plain": [
       "{'python': 2, 'maths': 3, 'chem': 1}"
      ]
     },
     "execution_count": 319,
     "metadata": {},
     "output_type": "execute_result"
    }
   ],
   "source": [
    "list1=['python','maths','python','chem','maths','maths']\n",
    "count=list(map(lambda x : list1.count(x),list1))\n",
    "\n",
    "dict(zip(list1,count))"
   ]
  },
  {
   "cell_type": "code",
   "execution_count": 320,
   "id": "70a5acb1-f83d-406e-8a84-789e258e6485",
   "metadata": {},
   "outputs": [
    {
     "data": {
      "text/plain": [
       "[['my'], ['name'], ['is'], ['smruti']]"
      ]
     },
     "execution_count": 320,
     "metadata": {},
     "output_type": "execute_result"
    }
   ],
   "source": [
    "list1=['my','name','is','smruti']\n",
    "\n",
    "list(map(lambda x: x.split(),list1))"
   ]
  },
  {
   "cell_type": "code",
   "execution_count": 321,
   "id": "8c9e2e1e-d865-4814-84cc-cb3ee36a7943",
   "metadata": {},
   "outputs": [
    {
     "data": {
      "text/plain": [
       "['Age', 'last_name', 'name', 'place']"
      ]
     },
     "execution_count": 321,
     "metadata": {},
     "output_type": "execute_result"
    }
   ],
   "source": [
    "dict1={'name':'Smruti','last_name':'Pote','Age':29,\"place\":'Pune'}\n",
    "\n",
    "for i,"
   ]
  },
  {
   "cell_type": "code",
   "execution_count": 322,
   "id": "7aead31e-ebae-4a12-862a-52472affedd2",
   "metadata": {},
   "outputs": [
    {
     "name": "stdout",
     "output_type": "stream",
     "text": [
      "{'Age': 29, 'last_name': 'Pote', 'name': 'Smruti', 'place': 'Pune'}\n"
     ]
    }
   ],
   "source": [
    "dict1={'name':'Smruti','last_name':'Pote','Age':29,\"place\":'Pune'}\n",
    "\n",
    "sorr= {}\n",
    "for keys in sorted(dict1.keys()):\n",
    "    sorr[keys]=dict1[keys]\n",
    "\n",
    "print(sorr)"
   ]
  },
  {
   "cell_type": "code",
   "execution_count": 327,
   "id": "10919552-d945-4780-9d88-d39e69fe7775",
   "metadata": {},
   "outputs": [
    {
     "name": "stdout",
     "output_type": "stream",
     "text": [
      "{'chem': 40, 'history': 49, 'maths': 50, 'phy': 75}\n"
     ]
    }
   ],
   "source": [
    "dict1={'phy':75,'chem':40,'maths':50,\"history\":49}\n",
    "sorr={}\n",
    "for i in sorted(dict1.values()):\n",
    "    for j in dict1:\n",
    "        if dict1[j]==i:\n",
    "            sorr[j]=dict1[j]\n",
    "print(sorr)"
   ]
  },
  {
   "cell_type": "code",
   "execution_count": 331,
   "id": "273124c0-76c8-4ebc-9d10-3db5b77a9f37",
   "metadata": {},
   "outputs": [
    {
     "data": {
      "text/plain": [
       "153.5"
      ]
     },
     "execution_count": 331,
     "metadata": {},
     "output_type": "execute_result"
    }
   ],
   "source": [
    "dict2={'age':25,'weight':85,'Height':7.5,'waist':36}\n",
    "\n",
    "x= dict2.values()\n",
    "sum(x)"
   ]
  },
  {
   "cell_type": "code",
   "execution_count": null,
   "id": "4323a991-7942-4cc5-8e18-e4a51a9dd4ef",
   "metadata": {},
   "outputs": [],
   "source": [
    "dict1={'phy':75,'chem':40,'maths':50,\"history\":49}\n"
   ]
  },
  {
   "cell_type": "code",
   "execution_count": 339,
   "id": "dc644d7c-38f6-4348-9a9c-43c4db99c165",
   "metadata": {},
   "outputs": [
    {
     "name": "stdout",
     "output_type": "stream",
     "text": [
      "[]\n"
     ]
    }
   ],
   "source": [
    "lst=['cat','dog','pam','act','god','map']\n",
    "\n",
    "ll=[]\n",
    "for i in range(0,len(lst)):\n",
    "    for j in range(i+1,len(lst)):\n",
    "        if lst[i] == sorted(lst[j]):\n",
    "            ll.append(lst[i])\n",
    "            ll.append(lst[j])\n",
    "\n",
    "ann=[]\n",
    "for k in range(0,len(ll),2):\n",
    "    ll = ll[k],ll[k+1]\n",
    "    ann.append(ll)\n",
    "\n",
    "print(ann)"
   ]
  },
  {
   "cell_type": "code",
   "execution_count": 343,
   "id": "c6f386a1-b062-4afe-95cb-311da92acfb4",
   "metadata": {},
   "outputs": [
    {
     "data": {
      "text/plain": [
       "{'I': 1,\n",
       " 'am': 1,\n",
       " 'good': 1,\n",
       " 'at': 1,\n",
       " 'python': 2,\n",
       " 'language': 2,\n",
       " 'and': 2,\n",
       " 'is': 1,\n",
       " 'easy': 1,\n",
       " 'to': 1,\n",
       " 'write': 1,\n",
       " 'understand': 1}"
      ]
     },
     "execution_count": 343,
     "metadata": {},
     "output_type": "execute_result"
    }
   ],
   "source": [
    "string='I am good at python language and python language is easy to write and understand'\n",
    "list1= string.split()\n",
    "list2 = list(map(lambda x: list1.count(x),list1))\n",
    "list2\n",
    "\n",
    "dict(zip(list1,list2))"
   ]
  },
  {
   "cell_type": "code",
   "execution_count": 345,
   "id": "42b2a8bf-8ab4-4d1f-a995-624c8d6935f1",
   "metadata": {},
   "outputs": [
    {
     "data": {
      "text/plain": [
       "[(1, 2), (7, 5), (9, 6), (3, 7)]"
      ]
     },
     "execution_count": 345,
     "metadata": {},
     "output_type": "execute_result"
    }
   ],
   "source": [
    "lst=[(1,2),(3,7),(9,6),(7,5)]\n",
    "\n",
    "result= (lambda lst: sorted(lst,key = lambda x: x[1]))\n",
    "result(lst)"
   ]
  },
  {
   "cell_type": "code",
   "execution_count": null,
   "id": "3bf78b7f-798b-4a62-8baf-fb6b12c3a917",
   "metadata": {},
   "outputs": [],
   "source": []
  },
  {
   "cell_type": "code",
   "execution_count": null,
   "id": "416df41a-58e2-4efb-b541-948bad69bc75",
   "metadata": {},
   "outputs": [],
   "source": []
  },
  {
   "cell_type": "code",
   "execution_count": 2,
   "id": "053d3874-221d-4823-883e-da2159dbd75f",
   "metadata": {},
   "outputs": [],
   "source": [
    "from abc import ABC,abstractmethod"
   ]
  },
  {
   "cell_type": "code",
   "execution_count": 6,
   "id": "05140439-c7d3-43ab-9814-0cba68e0749b",
   "metadata": {},
   "outputs": [
    {
     "ename": "AttributeError",
     "evalue": "'Register' object has no attribute 'login'",
     "output_type": "error",
     "traceback": [
      "\u001b[1;31m---------------------------------------------------------------------------\u001b[0m",
      "\u001b[1;31mAttributeError\u001b[0m                            Traceback (most recent call last)",
      "Cell \u001b[1;32mIn[6], line 16\u001b[0m\n\u001b[0;32m     12\u001b[0m     \u001b[38;5;66;03m# def login(self):\u001b[39;00m\n\u001b[0;32m     13\u001b[0m     \u001b[38;5;66;03m#     print('self')\u001b[39;00m\n\u001b[0;32m     15\u001b[0m obj \u001b[38;5;241m=\u001b[39m Register()\n\u001b[1;32m---> 16\u001b[0m obj\u001b[38;5;241m.\u001b[39mlogin()\n",
      "\u001b[1;31mAttributeError\u001b[0m: 'Register' object has no attribute 'login'"
     ]
    }
   ],
   "source": [
    "class ModelAbs(ABC):\n",
    "    @abstractmethod\n",
    "    def first(self):\n",
    "        print('first class')\n",
    "    @abstractmethod    \n",
    "    def login(self):\n",
    "        print('self')\n",
    "\n",
    "class Register():\n",
    "    def first(self):\n",
    "        print('first class')\n",
    "    # def login(self):\n",
    "    #     print('self')\n",
    "\n",
    "obj = Register()\n",
    "obj.login()"
   ]
  },
  {
   "cell_type": "code",
   "execution_count": null,
   "id": "007a0114-521d-4820-80fe-a7b3be6c9690",
   "metadata": {},
   "outputs": [],
   "source": []
  },
  {
   "cell_type": "code",
   "execution_count": 10,
   "id": "4497a91e-91fa-4f04-b29a-03f84e155a14",
   "metadata": {},
   "outputs": [
    {
     "name": "stdout",
     "output_type": "stream",
     "text": [
      "name 6\n"
     ]
    }
   ],
   "source": [
    "class ModelAbs():\n",
    "    max = 2\n",
    "\n",
    "    def __init__(self,a):\n",
    "        self.a =a\n",
    "    \n",
    "    def first(self):\n",
    "        summ = self.a+self.max\n",
    "        \n",
    "        print(f'summ',summ)\n",
    "   \n",
    "\n",
    "class Register(ModelAbs):\n",
    "    def __init__(self,a,b):\n",
    "        ModelAbs.__init__(self,a)\n",
    "        self.b =a\n",
    "        \n",
    "    def name(self):\n",
    "        names = self.b+self.max\n",
    "        print(f'name', names)\n",
    "\n",
    "obj = Register(4,3)\n",
    "obj.name()"
   ]
  },
  {
   "cell_type": "code",
   "execution_count": null,
   "id": "664896ab-5b2d-405a-9bba-5e2a01016d0c",
   "metadata": {},
   "outputs": [],
   "source": []
  },
  {
   "cell_type": "code",
   "execution_count": null,
   "id": "f207eddd-53cb-48df-a141-dad3f0b23cc8",
   "metadata": {},
   "outputs": [],
   "source": []
  },
  {
   "cell_type": "code",
   "execution_count": null,
   "id": "13951bac-dbcf-4271-9acc-9fd1d970142d",
   "metadata": {},
   "outputs": [],
   "source": []
  },
  {
   "cell_type": "code",
   "execution_count": null,
   "id": "a565700b-d22c-41ba-b679-9b054ccf2da0",
   "metadata": {},
   "outputs": [],
   "source": []
  },
  {
   "cell_type": "code",
   "execution_count": null,
   "id": "5f34a1d7-d97f-4e3d-ab5a-ae53c8094e17",
   "metadata": {},
   "outputs": [],
   "source": []
  },
  {
   "cell_type": "code",
   "execution_count": null,
   "id": "438fa931-370c-48a7-b5d8-600b0a1116ee",
   "metadata": {},
   "outputs": [],
   "source": []
  },
  {
   "cell_type": "code",
   "execution_count": null,
   "id": "ef83bdd7-37dd-41ce-ba47-3f761e2fcc96",
   "metadata": {},
   "outputs": [],
   "source": []
  },
  {
   "cell_type": "code",
   "execution_count": null,
   "id": "31536566-0fbf-44a9-a4c9-678e0a0a8d02",
   "metadata": {},
   "outputs": [],
   "source": []
  },
  {
   "cell_type": "code",
   "execution_count": null,
   "id": "5b57abe9-5300-4459-b70e-b2866140a801",
   "metadata": {},
   "outputs": [],
   "source": []
  },
  {
   "cell_type": "code",
   "execution_count": null,
   "id": "5e457804-1df5-437d-aa42-c260892a4cb2",
   "metadata": {},
   "outputs": [],
   "source": []
  },
  {
   "cell_type": "code",
   "execution_count": null,
   "id": "2cc33292-4611-472d-a965-d01d5410286c",
   "metadata": {},
   "outputs": [],
   "source": []
  },
  {
   "cell_type": "code",
   "execution_count": null,
   "id": "b99506c4-9b9e-487b-b80c-4cef4e90cfb5",
   "metadata": {},
   "outputs": [],
   "source": []
  },
  {
   "cell_type": "code",
   "execution_count": null,
   "id": "8fa5918f-75f1-49b3-abb3-af4901276187",
   "metadata": {},
   "outputs": [],
   "source": []
  },
  {
   "cell_type": "code",
   "execution_count": null,
   "id": "a7c443f6-4c97-46ac-aa67-eb31fa57ad69",
   "metadata": {},
   "outputs": [],
   "source": []
  },
  {
   "cell_type": "code",
   "execution_count": null,
   "id": "969aba2a-327d-42c0-b71f-190538fcc537",
   "metadata": {},
   "outputs": [],
   "source": []
  },
  {
   "cell_type": "code",
   "execution_count": null,
   "id": "294f354b-947c-4a56-990a-00d7a984ad95",
   "metadata": {},
   "outputs": [],
   "source": []
  },
  {
   "cell_type": "code",
   "execution_count": null,
   "id": "6331f6f0-2f35-41d5-a78b-ded216be0789",
   "metadata": {},
   "outputs": [],
   "source": []
  },
  {
   "cell_type": "code",
   "execution_count": null,
   "id": "2cc2a1a8-9350-4cad-bee6-0181f06219bf",
   "metadata": {},
   "outputs": [],
   "source": []
  },
  {
   "cell_type": "code",
   "execution_count": null,
   "id": "cdc4228d-b644-4a12-99f1-a035dfc442fc",
   "metadata": {},
   "outputs": [],
   "source": []
  },
  {
   "cell_type": "code",
   "execution_count": null,
   "id": "8a21084b-6a30-4eb4-9125-47822275bb24",
   "metadata": {},
   "outputs": [],
   "source": []
  },
  {
   "cell_type": "code",
   "execution_count": null,
   "id": "1918f3c7-4e3a-46a7-8b45-31e0a8d44ac5",
   "metadata": {},
   "outputs": [],
   "source": []
  },
  {
   "cell_type": "code",
   "execution_count": null,
   "id": "7e593e34-ea78-4612-9682-876b9e750d49",
   "metadata": {},
   "outputs": [],
   "source": []
  },
  {
   "cell_type": "code",
   "execution_count": null,
   "id": "bf08104f-5a6b-4e82-b471-08f321f28469",
   "metadata": {},
   "outputs": [],
   "source": []
  },
  {
   "cell_type": "code",
   "execution_count": null,
   "id": "35d993bd-eae3-4e24-be27-f1741ff2367e",
   "metadata": {},
   "outputs": [],
   "source": []
  },
  {
   "cell_type": "code",
   "execution_count": null,
   "id": "8ebd001c-2fa1-4c33-bdba-bf153fb31069",
   "metadata": {},
   "outputs": [],
   "source": []
  },
  {
   "cell_type": "code",
   "execution_count": null,
   "id": "f41b874b-3a1d-45c4-a2e8-03ad64a5567c",
   "metadata": {},
   "outputs": [],
   "source": []
  },
  {
   "cell_type": "code",
   "execution_count": null,
   "id": "e94e9f2d-a766-4dc9-8962-10f24092d02c",
   "metadata": {},
   "outputs": [],
   "source": []
  },
  {
   "cell_type": "code",
   "execution_count": null,
   "id": "a36f3c84-89e0-494c-9338-5230b4378389",
   "metadata": {},
   "outputs": [],
   "source": []
  }
 ],
 "metadata": {
  "kernelspec": {
   "display_name": "Python 3 (ipykernel)",
   "language": "python",
   "name": "python3"
  },
  "language_info": {
   "codemirror_mode": {
    "name": "ipython",
    "version": 3
   },
   "file_extension": ".py",
   "mimetype": "text/x-python",
   "name": "python",
   "nbconvert_exporter": "python",
   "pygments_lexer": "ipython3",
   "version": "3.11.5"
  }
 },
 "nbformat": 4,
 "nbformat_minor": 5
}
