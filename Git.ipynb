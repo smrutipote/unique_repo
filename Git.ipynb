{
 "cells": [
  {
   "cell_type": "markdown",
   "id": "bd4a77ac",
   "metadata": {},
   "source": [
    "## Git"
   ]
  },
  {
   "cell_type": "code",
   "execution_count": null,
   "id": "157b53ac",
   "metadata": {},
   "outputs": [],
   "source": [
    "1. GitHub\n",
    "2. GitLab\n",
    "3. BitBucket\n",
    "\n",
    "UI(User Interface) >> is different"
   ]
  },
  {
   "cell_type": "markdown",
   "id": "2aafd845",
   "metadata": {},
   "source": [
    "### Why Git ?"
   ]
  },
  {
   "cell_type": "code",
   "execution_count": null,
   "id": "ee20b099",
   "metadata": {},
   "outputs": [],
   "source": [
    "1. To store your projects scripts on a safe platform(online), where you can access it from anywhere\n",
    "2. Scripts can be shared between your team"
   ]
  },
  {
   "cell_type": "markdown",
   "id": "604b5e94",
   "metadata": {},
   "source": [
    "### Options apart from Git"
   ]
  },
  {
   "cell_type": "code",
   "execution_count": null,
   "id": "38d3383a",
   "metadata": {},
   "outputs": [],
   "source": [
    "Cloud based IDE : (Paid Services)\n",
    "    1. DataBricks (Azure) >> DBFS\n",
    "    2. Sagemaker (AWS)    >> S3 Bucket/Redshift"
   ]
  },
  {
   "cell_type": "markdown",
   "id": "d08c1ef8",
   "metadata": {},
   "source": [
    "### Virtual Machine (VDE >> Virtual Desktop Environment)"
   ]
  },
  {
   "cell_type": "code",
   "execution_count": null,
   "id": "08c79df0",
   "metadata": {},
   "outputs": [],
   "source": [
    "Local System:\n",
    "    A system(Laptop/Computer) which is available with you physically, and you can work on it.\n",
    "    \n",
    "Virtual System:\n",
    "    A system where you can log in online and have the same interface as local system."
   ]
  },
  {
   "cell_type": "markdown",
   "id": "cf44a8dc",
   "metadata": {},
   "source": [
    "### Project Management Tool"
   ]
  },
  {
   "cell_type": "code",
   "execution_count": null,
   "id": "063ddc30",
   "metadata": {},
   "outputs": [],
   "source": [
    "JIRA, Asana, Trello, Zoho, Pivotal TRacker\n",
    "\n",
    "Track of work and progress from different people assigned on project\n",
    "\n",
    "JIRA:\n",
    "    \n",
    "    Project >> Epic:\n",
    "        Plan with Team Lead/Manager & Stakeholders\n",
    "        2 months plan (8 weeks)\n",
    "        EDA >> Week 1-2\n",
    "        Feature Engineering >> Week 2\n",
    "        Model Building >> Week 3\n",
    "        MOdel Optimization >> Week 4\n",
    "        Model Evaluation >> Week 5-6\n",
    "        Dashboard >> Week 7\n",
    "        Buffer >> Week 8\n",
    "        \n",
    "    Progress >> Backlog >> To do >> In Progress >> In Review >> Complete/Done\n",
    "    \n",
    "    Sprint >> 1/2/3 Weeks sprint\n",
    "        \n",
    "        Sprint 1 (EDA):\n",
    "            story/issues with full discription\n",
    "            story 1 : Data Gathering\n",
    "            story 2 : EDA (Cat Features)\n",
    "            story 3 : EDA (Num Features)\n",
    "                \n",
    "        Sprint 2 (EDA + Feat Engg):\n",
    "            story 2 : EDA (Cat Features)\n",
    "            story 3 : EDA (Num Features)\n",
    "            story 4 : Preprocessing\n",
    "                \n",
    "Report will generate after completion of the Epic\n",
    "\n",
    "Daily StandUp Call : (With Manager/TL) 30 to 60 min\n",
    "    Daily Updates (Yesterday tasks and todays agenda)\n",
    "    Issues/Stories updates\n",
    "    \n",
    "JIRA - Git >> Integrated >> BitBucket\n",
    "\n",
    "TL >> Team Lead\n",
    "PM >> Project Manager\n",
    "RM >> Reporting Manager\n",
    "HRBP >> Human Resource Business Partner\n",
    "VP >> Vice Precident\n",
    "AD >> Associate Director"
   ]
  },
  {
   "cell_type": "markdown",
   "id": "a8bbc2d0",
   "metadata": {},
   "source": [
    "## GitHub "
   ]
  },
  {
   "cell_type": "code",
   "execution_count": null,
   "id": "1d3f985a",
   "metadata": {},
   "outputs": [],
   "source": [
    "https://github.com/git-for-windows/git/releases/download/v2.45.1.windows.1/Git-2.45.1-64-bit.exe"
   ]
  },
  {
   "cell_type": "markdown",
   "id": "90f95fb2",
   "metadata": {},
   "source": [
    "### 1. Clone Repository"
   ]
  },
  {
   "cell_type": "code",
   "execution_count": null,
   "id": "84600f82",
   "metadata": {},
   "outputs": [],
   "source": [
    "git clone url\n",
    "\n",
    "git clone https://github.com/chetan-bangale1/pune_hpp.git"
   ]
  },
  {
   "cell_type": "markdown",
   "id": "1176e9c8",
   "metadata": {},
   "source": [
    "### 2. Check status of your project"
   ]
  },
  {
   "cell_type": "code",
   "execution_count": null,
   "id": "9dd6daa3",
   "metadata": {},
   "outputs": [],
   "source": [
    "git status"
   ]
  },
  {
   "cell_type": "markdown",
   "id": "05935f15",
   "metadata": {},
   "source": [
    "### 3. Add your Files"
   ]
  },
  {
   "cell_type": "code",
   "execution_count": null,
   "id": "6daa7c5b",
   "metadata": {},
   "outputs": [],
   "source": [
    "git add file_name\n",
    "\n",
    "git add project_db.py"
   ]
  },
  {
   "cell_type": "markdown",
   "id": "ed8ef9ac",
   "metadata": {},
   "source": [
    "##### 3.1 Add all Files"
   ]
  },
  {
   "cell_type": "code",
   "execution_count": null,
   "id": "b55c0921",
   "metadata": {},
   "outputs": [],
   "source": [
    "git add --all\n",
    "\n",
    "git add ."
   ]
  },
  {
   "cell_type": "markdown",
   "id": "4bca4796",
   "metadata": {},
   "source": [
    "### 4. Commit the Changes"
   ]
  },
  {
   "cell_type": "code",
   "execution_count": null,
   "id": "b302beb4",
   "metadata": {},
   "outputs": [],
   "source": [
    "git commit -m \"Your Message\"\n",
    "\n",
    "git commit -m \"Added/Deleted/Updated/Functionality\""
   ]
  },
  {
   "cell_type": "markdown",
   "id": "433d590b",
   "metadata": {},
   "source": [
    "### 5. Push"
   ]
  },
  {
   "cell_type": "code",
   "execution_count": null,
   "id": "a1498ca5",
   "metadata": {},
   "outputs": [],
   "source": [
    "git push\n",
    "\n",
    "git push origin branch_name\n",
    "git push origin data_analysis"
   ]
  },
  {
   "cell_type": "markdown",
   "id": "7b67b76b",
   "metadata": {},
   "source": [
    "### 6. Delete a File"
   ]
  },
  {
   "cell_type": "code",
   "execution_count": null,
   "id": "817b1d38",
   "metadata": {},
   "outputs": [],
   "source": [
    "git rm file_name\n",
    "\n",
    "git rm project_db.py"
   ]
  },
  {
   "cell_type": "markdown",
   "id": "4f1eb9a3",
   "metadata": {},
   "source": [
    "##### Delete all Files"
   ]
  },
  {
   "cell_type": "code",
   "execution_count": null,
   "id": "5f448e4b",
   "metadata": {},
   "outputs": [],
   "source": [
    "git rm -r ."
   ]
  },
  {
   "cell_type": "markdown",
   "id": "b4c062f8",
   "metadata": {},
   "source": [
    "### 7. Restore your Changes"
   ]
  },
  {
   "cell_type": "code",
   "execution_count": null,
   "id": "14fb68e9",
   "metadata": {},
   "outputs": [],
   "source": [
    "git restore --staged file_name\n",
    "\n",
    "git restore --staged project_db.py"
   ]
  },
  {
   "cell_type": "markdown",
   "id": "912e71c6",
   "metadata": {},
   "source": [
    "### 8. Revert Changes"
   ]
  },
  {
   "cell_type": "code",
   "execution_count": null,
   "id": "4845530f",
   "metadata": {},
   "outputs": [],
   "source": [
    "git stash"
   ]
  },
  {
   "cell_type": "markdown",
   "id": "898808e1",
   "metadata": {},
   "source": [
    "### 9. Check Branch"
   ]
  },
  {
   "cell_type": "code",
   "execution_count": null,
   "id": "0aca1d5f",
   "metadata": {},
   "outputs": [],
   "source": [
    "git branch"
   ]
  },
  {
   "cell_type": "markdown",
   "id": "8e76b283",
   "metadata": {},
   "source": [
    "### 10. Create Branches"
   ]
  },
  {
   "cell_type": "code",
   "execution_count": null,
   "id": "decc8b6f",
   "metadata": {},
   "outputs": [],
   "source": [
    "git checkout -b branch_name\n",
    "\n",
    "git checkout -b data_analysis"
   ]
  },
  {
   "cell_type": "markdown",
   "id": "eac08ec8",
   "metadata": {},
   "source": [
    "### 11. Switch Branches"
   ]
  },
  {
   "cell_type": "code",
   "execution_count": null,
   "id": "c8c91394",
   "metadata": {},
   "outputs": [],
   "source": [
    "git checkout branch_name\n",
    "\n",
    "git checkout main\n",
    "git checkout data_analysis"
   ]
  },
  {
   "cell_type": "code",
   "execution_count": null,
   "id": "c08411e7",
   "metadata": {},
   "outputs": [],
   "source": []
  },
  {
   "cell_type": "code",
   "execution_count": null,
   "id": "6952d7a4",
   "metadata": {},
   "outputs": [],
   "source": []
  },
  {
   "cell_type": "code",
   "execution_count": null,
   "id": "9c6a64f7",
   "metadata": {},
   "outputs": [],
   "source": []
  }
 ],
 "metadata": {
  "kernelspec": {
   "display_name": "Python 3 (ipykernel)",
   "language": "python",
   "name": "python3"
  },
  "language_info": {
   "codemirror_mode": {
    "name": "ipython",
    "version": 3
   },
   "file_extension": ".py",
   "mimetype": "text/x-python",
   "name": "python",
   "nbconvert_exporter": "python",
   "pygments_lexer": "ipython3",
   "version": "3.10.6"
  }
 },
 "nbformat": 4,
 "nbformat_minor": 5
}
